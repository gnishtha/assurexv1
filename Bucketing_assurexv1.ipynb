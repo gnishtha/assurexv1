{
  "nbformat": 4,
  "nbformat_minor": 0,
  "metadata": {
    "colab": {
      "name": "Bucketing_assurexv1.ipynb",
      "provenance": [],
      "include_colab_link": true
    },
    "kernelspec": {
      "name": "python3",
      "display_name": "Python 3"
    }
  },
  "cells": [
    {
      "cell_type": "markdown",
      "metadata": {
        "id": "view-in-github",
        "colab_type": "text"
      },
      "source": [
        "<a href=\"https://colab.research.google.com/github/gnishtha/assurexv1/blob/master/Bucketing_assurexv1.ipynb\" target=\"_parent\"><img src=\"https://colab.research.google.com/assets/colab-badge.svg\" alt=\"Open In Colab\"/></a>"
      ]
    },
    {
      "cell_type": "code",
      "metadata": {
        "id": "k2mo6dCviwGV",
        "colab_type": "code",
        "colab": {
          "base_uri": "https://localhost:8080/",
          "height": 122
        },
        "outputId": "a3a0bd79-e83c-4c2d-e2df-ab96c67505ca"
      },
      "source": [
        "from google.colab import drive\n",
        "drive.mount('/content/drive')"
      ],
      "execution_count": 3,
      "outputs": [
        {
          "output_type": "stream",
          "text": [
            "Go to this URL in a browser: https://accounts.google.com/o/oauth2/auth?client_id=947318989803-6bn6qk8qdgf4n4g3pfee6491hc0brc4i.apps.googleusercontent.com&redirect_uri=urn%3aietf%3awg%3aoauth%3a2.0%3aoob&response_type=code&scope=email%20https%3a%2f%2fwww.googleapis.com%2fauth%2fdocs.test%20https%3a%2f%2fwww.googleapis.com%2fauth%2fdrive%20https%3a%2f%2fwww.googleapis.com%2fauth%2fdrive.photos.readonly%20https%3a%2f%2fwww.googleapis.com%2fauth%2fpeopleapi.readonly\n",
            "\n",
            "Enter your authorization code:\n",
            "··········\n",
            "Mounted at /content/drive\n"
          ],
          "name": "stdout"
        }
      ]
    },
    {
      "cell_type": "code",
      "metadata": {
        "id": "5Tno1hn7eO8Y",
        "colab_type": "code",
        "colab": {}
      },
      "source": [
        "import pandas as pd"
      ],
      "execution_count": 1,
      "outputs": []
    },
    {
      "cell_type": "code",
      "metadata": {
        "id": "fXj9IND1c0Dp",
        "colab_type": "code",
        "colab": {}
      },
      "source": [
        "df = pd.read_csv('/content/drive/My Drive/Colab Notebooks/example2 - Product Mapping.csv')"
      ],
      "execution_count": 4,
      "outputs": []
    },
    {
      "cell_type": "code",
      "metadata": {
        "id": "pIDQ8CnEeQyq",
        "colab_type": "code",
        "colab": {
          "base_uri": "https://localhost:8080/",
          "height": 204
        },
        "outputId": "f35c6f29-fefe-4ea4-9867-b4e9be150bab"
      },
      "source": [
        "df.head()"
      ],
      "execution_count": 5,
      "outputs": [
        {
          "output_type": "execute_result",
          "data": {
            "text/html": [
              "<div>\n",
              "<style scoped>\n",
              "    .dataframe tbody tr th:only-of-type {\n",
              "        vertical-align: middle;\n",
              "    }\n",
              "\n",
              "    .dataframe tbody tr th {\n",
              "        vertical-align: top;\n",
              "    }\n",
              "\n",
              "    .dataframe thead th {\n",
              "        text-align: right;\n",
              "    }\n",
              "</style>\n",
              "<table border=\"1\" class=\"dataframe\">\n",
              "  <thead>\n",
              "    <tr style=\"text-align: right;\">\n",
              "      <th></th>\n",
              "      <th>partnerid</th>\n",
              "      <th>lobraw</th>\n",
              "      <th>AGLOBDesc</th>\n",
              "      <th>lobdesc</th>\n",
              "    </tr>\n",
              "  </thead>\n",
              "  <tbody>\n",
              "    <tr>\n",
              "      <th>0</th>\n",
              "      <td>12</td>\n",
              "      <td>EXECUTIVE RISK</td>\n",
              "      <td>Management Liability Package</td>\n",
              "      <td>Management Liability Package</td>\n",
              "    </tr>\n",
              "    <tr>\n",
              "      <th>1</th>\n",
              "      <td>12</td>\n",
              "      <td>MISC PROFESSIONAL LIABILI</td>\n",
              "      <td>Management Liability Package</td>\n",
              "      <td>Management Liability Package</td>\n",
              "    </tr>\n",
              "    <tr>\n",
              "      <th>2</th>\n",
              "      <td>15</td>\n",
              "      <td>ABUSE &amp; MOLESTATION</td>\n",
              "      <td>Abuse &amp; Molestation</td>\n",
              "      <td>Abuse &amp; Molestation</td>\n",
              "    </tr>\n",
              "    <tr>\n",
              "      <th>3</th>\n",
              "      <td>19</td>\n",
              "      <td>SEXUAL ABUSE AND MOLESTATION</td>\n",
              "      <td>Abuse &amp; Molestation</td>\n",
              "      <td>Abuse &amp; Molestation</td>\n",
              "    </tr>\n",
              "    <tr>\n",
              "      <th>4</th>\n",
              "      <td>21</td>\n",
              "      <td>ABUSE &amp; MOLESTATION</td>\n",
              "      <td>Abuse &amp; Molestation</td>\n",
              "      <td>Abuse &amp; Molestation</td>\n",
              "    </tr>\n",
              "  </tbody>\n",
              "</table>\n",
              "</div>"
            ],
            "text/plain": [
              "   partnerid  ...                        lobdesc\n",
              "0         12  ...   Management Liability Package\n",
              "1         12  ...   Management Liability Package\n",
              "2         15  ...            Abuse & Molestation\n",
              "3         19  ...            Abuse & Molestation\n",
              "4         21  ...            Abuse & Molestation\n",
              "\n",
              "[5 rows x 4 columns]"
            ]
          },
          "metadata": {
            "tags": []
          },
          "execution_count": 5
        }
      ]
    },
    {
      "cell_type": "code",
      "metadata": {
        "id": "HFOp7YCyeq1x",
        "colab_type": "code",
        "colab": {
          "base_uri": "https://localhost:8080/",
          "height": 292
        },
        "outputId": "f229f920-756b-43f3-e348-f9b2a411e761"
      },
      "source": [
        "!pip install fuzzywuzzy\n",
        "!pip install python-Levenshtein"
      ],
      "execution_count": 6,
      "outputs": [
        {
          "output_type": "stream",
          "text": [
            "Collecting fuzzywuzzy\n",
            "  Downloading https://files.pythonhosted.org/packages/43/ff/74f23998ad2f93b945c0309f825be92e04e0348e062026998b5eefef4c33/fuzzywuzzy-0.18.0-py2.py3-none-any.whl\n",
            "Installing collected packages: fuzzywuzzy\n",
            "Successfully installed fuzzywuzzy-0.18.0\n",
            "Collecting python-Levenshtein\n",
            "\u001b[?25l  Downloading https://files.pythonhosted.org/packages/42/a9/d1785c85ebf9b7dfacd08938dd028209c34a0ea3b1bcdb895208bd40a67d/python-Levenshtein-0.12.0.tar.gz (48kB)\n",
            "\u001b[K     |████████████████████████████████| 51kB 873kB/s \n",
            "\u001b[?25hRequirement already satisfied: setuptools in /usr/local/lib/python3.6/dist-packages (from python-Levenshtein) (47.3.1)\n",
            "Building wheels for collected packages: python-Levenshtein\n",
            "  Building wheel for python-Levenshtein (setup.py) ... \u001b[?25l\u001b[?25hdone\n",
            "  Created wheel for python-Levenshtein: filename=python_Levenshtein-0.12.0-cp36-cp36m-linux_x86_64.whl size=144786 sha256=a331af6e2799dae3a15b2f018ef542fecc2b060f37145a422c2cc2e425b0db9f\n",
            "  Stored in directory: /root/.cache/pip/wheels/de/c2/93/660fd5f7559049268ad2dc6d81c4e39e9e36518766eaf7e342\n",
            "Successfully built python-Levenshtein\n",
            "Installing collected packages: python-Levenshtein\n",
            "Successfully installed python-Levenshtein-0.12.0\n"
          ],
          "name": "stdout"
        }
      ]
    },
    {
      "cell_type": "code",
      "metadata": {
        "id": "Q3cjJgFtgNBo",
        "colab_type": "code",
        "colab": {}
      },
      "source": [
        "from fuzzywuzzy import fuzz \n",
        "from fuzzywuzzy import process \n"
      ],
      "execution_count": 7,
      "outputs": []
    },
    {
      "cell_type": "code",
      "metadata": {
        "id": "7zxHJlkqmiTf",
        "colab_type": "code",
        "colab": {}
      },
      "source": [
        "#Taking all the unique lobraw values\n",
        "x=df.lobraw.unique()"
      ],
      "execution_count": 8,
      "outputs": []
    },
    {
      "cell_type": "markdown",
      "metadata": {
        "id": "v_iML0ch2Zd5",
        "colab_type": "text"
      },
      "source": [
        "IF WE KEEP A CHECK ON WHAT IS VISITED ALREADY AND DO NOT CONSIDER THEM AGAIN:"
      ]
    },
    {
      "cell_type": "code",
      "metadata": {
        "id": "NwFABInj1rbj",
        "colab_type": "code",
        "colab": {
          "base_uri": "https://localhost:8080/",
          "height": 34
        },
        "outputId": "5208c98f-29e9-48f2-ff20-5025badfcd92"
      },
      "source": [
        "#taking all the threshold as 70, res is a dictionary having key as the 'lobraw value' whose family componets are in the form of list as value associated with that key\n",
        "res={}\n",
        "#prev is a list keeping a check on all the visited lobraw values in order to reduce redundancy\n",
        "prev=[]\n",
        "temp=[]\n",
        "for token_1 in x:\n",
        "  prev.append(token_1)\n",
        "  for token_2 in x:\n",
        "    if token_2 not in prev:  \n",
        "      if fuzz.token_sort_ratio(token_1 , token_2)>70:\n",
        "        temp.append(token_2)\n",
        "        prev.append(token_2)\n",
        "\n",
        "  res[token_1]=temp\n",
        "  temp=[]"
      ],
      "execution_count": 24,
      "outputs": [
        {
          "output_type": "stream",
          "text": [
            "['EXECUTIVE PACKAGE', 'EXECUTIVE RISK PACKAGE', 'EXECUTIVE PROTECTION']\n"
          ],
          "name": "stdout"
        }
      ]
    },
    {
      "cell_type": "code",
      "metadata": {
        "id": "Bncj00J2jzgC",
        "colab_type": "code",
        "colab": {}
      },
      "source": [
        "#dropping all the key-value pairs those having empty lists as there values\n",
        "key=[]\n",
        "val=[]\n",
        "for k,v in res.items():\n",
        "  if len(v)==0:\n",
        "    pass\n",
        "  else:\n",
        "    key.append(k)\n",
        "    val.append(v)\n",
        "    "
      ],
      "execution_count": 25,
      "outputs": []
    },
    {
      "cell_type": "code",
      "metadata": {
        "id": "W1pOMKTckL-j",
        "colab_type": "code",
        "colab": {}
      },
      "source": [
        "datafr=pd.DataFrame(list(zip(key,val)),columns=['Family','Components'])\n",
        "datafr.to_csv('result.csv')"
      ],
      "execution_count": 26,
      "outputs": []
    }
  ]
}
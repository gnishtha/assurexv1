{
  "nbformat": 4,
  "nbformat_minor": 0,
  "metadata": {
    "colab": {
      "name": "assurex.ipynb",
      "provenance": [],
      "collapsed_sections": [],
      "mount_file_id": "1FxWrG7dfpPv7UifIDqoDxJJn63EDc_oH",
      "authorship_tag": "ABX9TyOMvxzLGTjG1un9Lbgs4L8q",
      "include_colab_link": true
    },
    "kernelspec": {
      "name": "python3",
      "display_name": "Python 3"
    }
  },
  "cells": [
    {
      "cell_type": "markdown",
      "metadata": {
        "id": "view-in-github",
        "colab_type": "text"
      },
      "source": [
        "<a href=\"https://colab.research.google.com/github/gnishtha/assurexv1/blob/master/assurex.ipynb\" target=\"_parent\"><img src=\"https://colab.research.google.com/assets/colab-badge.svg\" alt=\"Open In Colab\"/></a>"
      ]
    },
    {
      "cell_type": "code",
      "metadata": {
        "id": "DQGFXaAUiEk7",
        "colab_type": "code",
        "colab": {}
      },
      "source": [
        "import pandas as pd\n",
        "import numpy as np\n",
        "from fancyimpute import KNN\n",
        "from sklearn.preprocessing import OrdinalEncoder"
      ],
      "execution_count": null,
      "outputs": []
    },
    {
      "cell_type": "code",
      "metadata": {
        "id": "afNfn6CtpcRw",
        "colab_type": "code",
        "colab": {}
      },
      "source": [
        "df = pd.read_csv('/content/drive/My Drive/Colab Notebooks/example2 - Product Mapping.csv')\n",
        "dfunk=df[df['lobdesc']!='Unknown']"
      ],
      "execution_count": null,
      "outputs": []
    },
    {
      "cell_type": "code",
      "metadata": {
        "id": "rd5YiIJJKsUF",
        "colab_type": "code",
        "colab": {
          "base_uri": "https://localhost:8080/",
          "height": 191
        },
        "outputId": "53b1b69f-2466-47bd-aec8-02e76850d758"
      },
      "source": [
        "df.head()"
      ],
      "execution_count": null,
      "outputs": [
        {
          "output_type": "execute_result",
          "data": {
            "text/html": [
              "<div>\n",
              "<style scoped>\n",
              "    .dataframe tbody tr th:only-of-type {\n",
              "        vertical-align: middle;\n",
              "    }\n",
              "\n",
              "    .dataframe tbody tr th {\n",
              "        vertical-align: top;\n",
              "    }\n",
              "\n",
              "    .dataframe thead th {\n",
              "        text-align: right;\n",
              "    }\n",
              "</style>\n",
              "<table border=\"1\" class=\"dataframe\">\n",
              "  <thead>\n",
              "    <tr style=\"text-align: right;\">\n",
              "      <th></th>\n",
              "      <th>partnerid</th>\n",
              "      <th>lobraw</th>\n",
              "      <th>AGLOBDesc</th>\n",
              "      <th>lobdesc</th>\n",
              "    </tr>\n",
              "  </thead>\n",
              "  <tbody>\n",
              "    <tr>\n",
              "      <th>0</th>\n",
              "      <td>12</td>\n",
              "      <td>EXECUTIVE RISK</td>\n",
              "      <td>Management Liability Package</td>\n",
              "      <td>Management Liability Package</td>\n",
              "    </tr>\n",
              "    <tr>\n",
              "      <th>1</th>\n",
              "      <td>12</td>\n",
              "      <td>MISC PROFESSIONAL LIABILI</td>\n",
              "      <td>Management Liability Package</td>\n",
              "      <td>Management Liability Package</td>\n",
              "    </tr>\n",
              "    <tr>\n",
              "      <th>2</th>\n",
              "      <td>15</td>\n",
              "      <td>ABUSE &amp; MOLESTATION</td>\n",
              "      <td>Abuse &amp; Molestation</td>\n",
              "      <td>Abuse &amp; Molestation</td>\n",
              "    </tr>\n",
              "    <tr>\n",
              "      <th>3</th>\n",
              "      <td>19</td>\n",
              "      <td>SEXUAL ABUSE AND MOLESTATION</td>\n",
              "      <td>Abuse &amp; Molestation</td>\n",
              "      <td>Abuse &amp; Molestation</td>\n",
              "    </tr>\n",
              "    <tr>\n",
              "      <th>4</th>\n",
              "      <td>21</td>\n",
              "      <td>ABUSE &amp; MOLESTATION</td>\n",
              "      <td>Abuse &amp; Molestation</td>\n",
              "      <td>Abuse &amp; Molestation</td>\n",
              "    </tr>\n",
              "  </tbody>\n",
              "</table>\n",
              "</div>"
            ],
            "text/plain": [
              "   partnerid  ...                        lobdesc\n",
              "0         12  ...   Management Liability Package\n",
              "1         12  ...   Management Liability Package\n",
              "2         15  ...            Abuse & Molestation\n",
              "3         19  ...            Abuse & Molestation\n",
              "4         21  ...            Abuse & Molestation\n",
              "\n",
              "[5 rows x 4 columns]"
            ]
          },
          "metadata": {
            "tags": []
          },
          "execution_count": 88
        }
      ]
    },
    {
      "cell_type": "code",
      "metadata": {
        "id": "kj5mxZWnEO3g",
        "colab_type": "code",
        "colab": {
          "base_uri": "https://localhost:8080/",
          "height": 748
        },
        "outputId": "cb8440f5-9773-4801-f463-d05b53952ceb"
      },
      "source": [
        "dfunk.AGLOBDesc.unique()"
      ],
      "execution_count": null,
      "outputs": [
        {
          "output_type": "execute_result",
          "data": {
            "text/plain": [
              "array([' Management Liability Package', 'Abuse & Molestation', 'Accident',\n",
              "       'Accident - Commercial', 'Agency Fee', 'Aircraft', 'Annuity',\n",
              "       'Auto - Commercial', 'Auto - Personal', 'Boat - Commercial',\n",
              "       'Boat - Personal', 'Boiler', 'Bond - Bankers', 'Bond - ERISA',\n",
              "       'Bond - Fidelity ', 'Bond - Financial', 'Bond - License',\n",
              "       'Bond - Misc', 'Bond - Notary', 'Bond - Surety', 'BOP',\n",
              "       'Builders Risk', 'Business Auto', 'Captive', 'Cargo',\n",
              "       'Clinical Trials', 'Cobra', 'Commercial Boat',\n",
              "       'Commercial Earthquake', 'Commercial Flood', 'Commercial Property',\n",
              "       'Commerical Package', 'Credit', 'Crime', 'Critical Illnes',\n",
              "       'Cyber', \"Dealer's Open Lot\", 'Dental - Personal',\n",
              "       'Difference in Conditions', 'Directors and Officers', 'Disability',\n",
              "       'Earthquake - Commercial', 'Emplopyment Practices',\n",
              "       'Employee Beneft Liability / EBL',\n",
              "       'Errors and Ommissions - Professional', 'Event Cancellation',\n",
              "       'Excess', 'Farm', 'Fee', 'Fiduciary', 'Fire', 'Garage Keepers',\n",
              "       'General Liability', 'Group Critical Illness', 'Group Dental',\n",
              "       'Group Disability', 'Group Employee Assistance Program',\n",
              "       'Group Flexible Spending Account', 'Group GAP',\n",
              "       'Group Health Reimbursement Account', 'Group Life',\n",
              "       'Group Long Term Care', 'Group Medical', 'Group Miscellaneous',\n",
              "       'Group Stop Loss', 'Group Vision', 'Homeowners',\n",
              "       'Homeowners - Personal', 'Identity Theft', 'Inland Marine',\n",
              "       'Inland Marine - Commercial', 'inland Marine - Personal',\n",
              "       'Inland Marine - Personal ', 'Intellectual Property',\n",
              "       'International Package', 'Jewelers Block', 'Kidnap Ransom',\n",
              "       'Liability', 'Life', 'Liquor Liability', 'Long Term Care',\n",
              "       'Long Term Disability ', 'Marine', 'Medical - Personal',\n",
              "       'Medicare Supplement', 'Miscellaneous', 'Miscellaneous Liability',\n",
              "       'Motor home', 'Motorcycle', 'Ocean Marine',\n",
              "       'Ocean Marine - Commercial', 'Package - Commercial',\n",
              "       'Package - Personal', 'PEO', 'Personal Auto', 'Personal Boat',\n",
              "       'Personal Dental', 'Personal Earthquake', 'Personal Flood',\n",
              "       'Personal Medical', 'Personal Package', 'Personal Property',\n",
              "       'Personal Umbrella', 'Pet', 'Pollution', 'Products',\n",
              "       'Professional Errors and Omissions', 'Property - Commercial',\n",
              "       'Railroad Protective', 'Recreational Vehical - Personal',\n",
              "       'Recreational Vehicle', 'ReInsurance', 'Retirement Plan',\n",
              "       'SLT Tax', 'Special Event', 'Tail Extending Reporting',\n",
              "       'Terrorism', 'TPA', 'Travel Accident',\n",
              "       'Travel Accident - Commercial', 'Truckers',\n",
              "       'Truckers - Commerical', 'Umbrella', 'Umbrella - Commercial',\n",
              "       'Umbrella - Personal', 'Valuable Papers', 'Vision', 'Wind',\n",
              "       'Wind - Commerical', 'Wind - Personal', 'Workers Compensation',\n",
              "       'Wrap'], dtype=object)"
            ]
          },
          "metadata": {
            "tags": []
          },
          "execution_count": 93
        }
      ]
    },
    {
      "cell_type": "code",
      "metadata": {
        "id": "a2HviyBxEKTS",
        "colab_type": "code",
        "colab": {
          "base_uri": "https://localhost:8080/",
          "height": 131
        },
        "outputId": "6de4007f-f1d3-4e55-bc9d-dfde3851e685"
      },
      "source": [
        "from sklearn.feature_extraction.text import TfidfVectorizer\n",
        "vectorizer = TfidfVectorizer()\n",
        "vectorizer.fit(dfunk.lobraw.values)"
      ],
      "execution_count": null,
      "outputs": [
        {
          "output_type": "execute_result",
          "data": {
            "text/plain": [
              "TfidfVectorizer(analyzer='word', binary=False, decode_error='strict',\n",
              "                dtype=<class 'numpy.float64'>, encoding='utf-8',\n",
              "                input='content', lowercase=True, max_df=1.0, max_features=None,\n",
              "                min_df=1, ngram_range=(1, 1), norm='l2', preprocessor=None,\n",
              "                smooth_idf=True, stop_words=None, strip_accents=None,\n",
              "                sublinear_tf=False, token_pattern='(?u)\\\\b\\\\w\\\\w+\\\\b',\n",
              "                tokenizer=None, use_idf=True, vocabulary=None)"
            ]
          },
          "metadata": {
            "tags": []
          },
          "execution_count": 97
        }
      ]
    },
    {
      "cell_type": "code",
      "metadata": {
        "id": "HhkjJFkSE_Fw",
        "colab_type": "code",
        "colab": {}
      },
      "source": [
        "x=vectorizer.transform(dfunk.lobraw.values)"
      ],
      "execution_count": null,
      "outputs": []
    },
    {
      "cell_type": "code",
      "metadata": {
        "id": "ZutgirekF_oZ",
        "colab_type": "code",
        "colab": {}
      },
      "source": [
        "from sklearn import preprocessing\n",
        "le = preprocessing.LabelEncoder()\n",
        "le.fit(dfunk.AGLOBDesc.values)\n",
        "y=le.transform(dfunk.AGLOBDesc.values)"
      ],
      "execution_count": null,
      "outputs": []
    },
    {
      "cell_type": "code",
      "metadata": {
        "id": "jREM3wlEFY7Y",
        "colab_type": "code",
        "colab": {}
      },
      "source": [
        "from sklearn.neighbors import KNeighborsClassifier as knn\n",
        "from sklearn.ensemble import RandomForestClassifier\n",
        "clf = knn(n_neighbors=5)\n",
        "x=x.toarray()\n"
      ],
      "execution_count": null,
      "outputs": []
    },
    {
      "cell_type": "code",
      "metadata": {
        "id": "iqa0AX13G2Yi",
        "colab_type": "code",
        "colab": {
          "base_uri": "https://localhost:8080/",
          "height": 66
        },
        "outputId": "5a00425f-bd91-4e93-8ef0-c7fbb7239460"
      },
      "source": [
        "clf.fit(x,y)"
      ],
      "execution_count": null,
      "outputs": [
        {
          "output_type": "execute_result",
          "data": {
            "text/plain": [
              "KNeighborsClassifier(algorithm='auto', leaf_size=30, metric='minkowski',\n",
              "                     metric_params=None, n_jobs=None, n_neighbors=5, p=2,\n",
              "                     weights='uniform')"
            ]
          },
          "metadata": {
            "tags": []
          },
          "execution_count": 153
        }
      ]
    },
    {
      "cell_type": "code",
      "metadata": {
        "id": "aAt7-WSOHmsO",
        "colab_type": "code",
        "colab": {}
      },
      "source": [
        "dfpred=df[df['lobdesc']=='Unknown']\n",
        "x_pred=vectorizer.transform(dfpred.lobraw.values)\n",
        "x_pred=x_pred.toarray()\n",
        "ypred=clf.predict(x_pred)"
      ],
      "execution_count": null,
      "outputs": []
    },
    {
      "cell_type": "code",
      "metadata": {
        "id": "XOUwLtsIHvR8",
        "colab_type": "code",
        "colab": {
          "base_uri": "https://localhost:8080/",
          "height": 50
        },
        "outputId": "e926236c-8006-4e2a-e0c9-b63630d6bda5"
      },
      "source": [
        "le.inverse_transform(ypred)"
      ],
      "execution_count": null,
      "outputs": [
        {
          "output_type": "execute_result",
          "data": {
            "text/plain": [
              "array(['Excess', 'Cargo', 'Builders Risk', ..., 'Fee', 'Group Dental',\n",
              "       'TPA'], dtype=object)"
            ]
          },
          "metadata": {
            "tags": []
          },
          "execution_count": 157
        }
      ]
    }
  ]
}